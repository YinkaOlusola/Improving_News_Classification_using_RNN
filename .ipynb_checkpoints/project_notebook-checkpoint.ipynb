{
 "cells": [
  {
   "cell_type": "markdown",
   "id": "2a91ea70",
   "metadata": {},
   "source": [
    "# Natural Language Processing: Classification of News Articles\n",
    "This project used the content of news articles to classify them into one of the 4 following categories: `World, Sports, Business, Sci/Tech`.\n",
    "\n",
    "The original data source is http://groups.di.unipi.it/~gulli/AG_corpus_of_news_articles.html.\n",
    "\n",
    "The dataset was made available on GCU learn in the compressed file 'news_dataset.zip' where it was simply downloaded and extracted."
   ]
  },
  {
   "cell_type": "markdown",
   "id": "0a987165",
   "metadata": {},
   "source": [
    "### Importing Libraries"
   ]
  },
  {
   "cell_type": "code",
   "execution_count": 1,
   "id": "56611736",
   "metadata": {},
   "outputs": [],
   "source": [
    "import numpy as np\n",
    "import matplotlib.pyplot as plt\n",
    "import pandas as pd\n",
    "import re\n",
    "import seaborn as sns\n",
    "import nltk\n",
    "from nltk.corpus import stopwords\n",
    "from nltk.tokenize import word_tokenize\n",
    "from sklearn.metrics import confusion_matrix, classification_report, accuracy_score, classification_report\n",
    "from sklearn.model_selection import train_test_split\n",
    "import tensorflow as tf\n",
    "from tensorflow.keras.layers import (\n",
    "    TextVectorization,\n",
    "    Embedding,\n",
    "    LSTM,\n",
    "    Bidirectional,\n",
    "    Dense,\n",
    "    Embedding\n",
    ")\n",
    "import tensorflow.keras\n",
    "from keras.callbacks import EarlyStopping\n",
    "from tensorflow.keras.models import Sequential\n",
    "from sklearn.feature_selection import SelectKBest, f_classif\n",
    "from sklearn.feature_extraction.text import TfidfVectorizer\n",
    "from sklearn.neighbors import KNeighborsClassifier"
   ]
  },
  {
   "cell_type": "markdown",
   "id": "e82cee2f",
   "metadata": {},
   "source": [
    "# 1. Data preparation\n",
    "Import data. "
   ]
  },
  {
   "cell_type": "code",
   "execution_count": 2,
   "id": "1fb31a1b",
   "metadata": {},
   "outputs": [
    {
     "data": {
      "text/html": [
       "<div>\n",
       "<style scoped>\n",
       "    .dataframe tbody tr th:only-of-type {\n",
       "        vertical-align: middle;\n",
       "    }\n",
       "\n",
       "    .dataframe tbody tr th {\n",
       "        vertical-align: top;\n",
       "    }\n",
       "\n",
       "    .dataframe thead th {\n",
       "        text-align: right;\n",
       "    }\n",
       "</style>\n",
       "<table border=\"1\" class=\"dataframe\">\n",
       "  <thead>\n",
       "    <tr style=\"text-align: right;\">\n",
       "      <th></th>\n",
       "      <th>Class Index</th>\n",
       "      <th>Title</th>\n",
       "      <th>Description</th>\n",
       "    </tr>\n",
       "  </thead>\n",
       "  <tbody>\n",
       "    <tr>\n",
       "      <th>0</th>\n",
       "      <td>3</td>\n",
       "      <td>Wall St. Bears Claw Back Into the Black (Reuters)</td>\n",
       "      <td>Reuters - Short-sellers, Wall Street's dwindli...</td>\n",
       "    </tr>\n",
       "    <tr>\n",
       "      <th>1</th>\n",
       "      <td>3</td>\n",
       "      <td>Carlyle Looks Toward Commercial Aerospace (Reu...</td>\n",
       "      <td>Reuters - Private investment firm Carlyle Grou...</td>\n",
       "    </tr>\n",
       "    <tr>\n",
       "      <th>2</th>\n",
       "      <td>3</td>\n",
       "      <td>Oil and Economy Cloud Stocks' Outlook (Reuters)</td>\n",
       "      <td>Reuters - Soaring crude prices plus worries\\ab...</td>\n",
       "    </tr>\n",
       "    <tr>\n",
       "      <th>3</th>\n",
       "      <td>3</td>\n",
       "      <td>Iraq Halts Oil Exports from Main Southern Pipe...</td>\n",
       "      <td>Reuters - Authorities have halted oil export\\f...</td>\n",
       "    </tr>\n",
       "    <tr>\n",
       "      <th>4</th>\n",
       "      <td>3</td>\n",
       "      <td>Oil prices soar to all-time record, posing new...</td>\n",
       "      <td>AFP - Tearaway world oil prices, toppling reco...</td>\n",
       "    </tr>\n",
       "  </tbody>\n",
       "</table>\n",
       "</div>"
      ],
      "text/plain": [
       "   Class Index                                              Title  \\\n",
       "0            3  Wall St. Bears Claw Back Into the Black (Reuters)   \n",
       "1            3  Carlyle Looks Toward Commercial Aerospace (Reu...   \n",
       "2            3    Oil and Economy Cloud Stocks' Outlook (Reuters)   \n",
       "3            3  Iraq Halts Oil Exports from Main Southern Pipe...   \n",
       "4            3  Oil prices soar to all-time record, posing new...   \n",
       "\n",
       "                                         Description  \n",
       "0  Reuters - Short-sellers, Wall Street's dwindli...  \n",
       "1  Reuters - Private investment firm Carlyle Grou...  \n",
       "2  Reuters - Soaring crude prices plus worries\\ab...  \n",
       "3  Reuters - Authorities have halted oil export\\f...  \n",
       "4  AFP - Tearaway world oil prices, toppling reco...  "
      ]
     },
     "execution_count": 2,
     "metadata": {},
     "output_type": "execute_result"
    }
   ],
   "source": [
    "# Importing the dataset. As done in lab 4, you usually have a look at the data. Here we simply show the first 5 rows\n",
    "train_data = pd.read_csv(\"data/train.csv\") # File path was added as the data files were put in a folder\n",
    "test_data = pd.read_csv(\"data/test.csv\")# File path was added as the data files were put in a folder\n",
    "\n",
    "train_data.head(5)"
   ]
  },
  {
   "cell_type": "markdown",
   "id": "ab9720fd",
   "metadata": {},
   "source": [
    "<br>\n",
    "\n",
    "**Change labels from 1-4 to 0-3**"
   ]
  },
  {
   "cell_type": "code",
   "execution_count": 3,
   "id": "8240d259",
   "metadata": {},
   "outputs": [],
   "source": [
    "# substract 1 from the target variable for both, train and test data\n",
    "train_data[\"Class Index\"] = train_data[\"Class Index\"] - 1\n",
    "test_data[\"Class Index\"] = test_data[\"Class Index\"] - 1\n",
    "\n",
    "# Labels\n",
    "label_names = [\"World\", \"Sports\", \"Business\", \"Sci/Tech\"] # 0 is \"World\", 1 is \"Sports\", 2 is \"Business\" and 4 is \"Sci/Tech\""
   ]
  },
  {
   "cell_type": "markdown",
   "id": "6ee9fc04",
   "metadata": {},
   "source": [
    "## Preprocessing \n",
    "\n",
    "Lowercase descriptions and clean up of non-letter characters.\n",
    "\n",
    "**Removing the occurences of \"http\" \"href\", \"https\" and \"www\". Also, removing the names of the news agencies (Reuters, AP, ...) from the datasets.**"
   ]
  },
  {
   "cell_type": "markdown",
   "id": "dd2db161",
   "metadata": {},
   "source": [
    "Upon careful observation, it was noted that news agency names, when present, were added at the end of each news title within parentheses in the `Title` column. To address this, the names of these agencies will be extracted from the column and subsequently removed from the dataset used for model training."
   ]
  },
  {
   "cell_type": "markdown",
   "id": "1a2ba0ee",
   "metadata": {},
   "source": [
    "#### A function to get the names of all news agencies in the dataset"
   ]
  },
  {
   "cell_type": "code",
   "execution_count": 4,
   "id": "b2ce5a58",
   "metadata": {
    "scrolled": true
   },
   "outputs": [],
   "source": [
    "def news_agencies(dataframe):\n",
    "    '''\n",
    "        This function gets the names of all news agencies in the dataset.\n",
    "        \n",
    "        The news agency names are assumed to be enclosed within parentheses\n",
    "        and placed at the end of each sentence in the title column when present.\n",
    "        \n",
    "        input:\n",
    "                The entire dataframe\n",
    "                \n",
    "        return:\n",
    "                List of all news agency names in the dataframe\n",
    "    '''\n",
    "    news_agency_names = []\n",
    "    for _, col in dataframe.iterrows():\n",
    "        if col['Title'].split(\" \")[-1] != \"\":\n",
    "            if (col['Title'].split(\" \")[-1].startswith(\"(\")) and (col['Title'].split(\" \")[-1].endswith(\")\")):\n",
    "                agency_name = col['Title'].split(\" \")[-1].lower()\n",
    "                if agency_name[1:-1] not in news_agency_names:\n",
    "                    news_agency_names.append(agency_name[1:-1])\n",
    "    \n",
    "    return news_agency_names\n",
    "\n",
    "\n",
    "# Getting all news agencies' names from the title column\n",
    "news_agencies_ = news_agencies(train_data)"
   ]
  },
  {
   "cell_type": "markdown",
   "id": "d20a2e47",
   "metadata": {},
   "source": [
    "#### Removing the certain words\n",
    "\n",
    "`http`, `https`, `href`, `www` and news agencies names will be removed using the following function"
   ]
  },
  {
   "cell_type": "code",
   "execution_count": 5,
   "id": "023c97b2",
   "metadata": {},
   "outputs": [],
   "source": [
    "# A function to remove \"http\", \"href\", \"https\", \"www\" and news agencies names\n",
    "def remove_words(string):\n",
    "    '''\n",
    "        This function takes in a string and removes \"http\",\n",
    "        \"href\", \"https\", \"www\" and news agencies names.\n",
    "        \n",
    "        The names of the news agencies observed to be placed\n",
    "        in a parenthesis at the end of each title as was seen for some\n",
    "        randomly selected news titles\n",
    "        \n",
    "        input:\n",
    "                str: Strings to be stripped of some certain words\n",
    "                \n",
    "        return:\n",
    "                The input string without those words.\n",
    "    '''\n",
    "    # A list of internet related words to be removed\n",
    "    url_keywords = ['http', 'https', 'www', 'href']\n",
    "    \n",
    "    # All keywords to be removed\n",
    "    keywords = news_agencies_ + url_keywords\n",
    "    \n",
    "    # Remove News agency names\n",
    "    string = \" \".join([word for word in string.split(\" \") if word not in keywords])\n",
    "    \n",
    "    return string\n",
    "    "
   ]
  },
  {
   "cell_type": "markdown",
   "id": "61098813",
   "metadata": {},
   "source": [
    "#### Removing certain keywords"
   ]
  },
  {
   "cell_type": "code",
   "execution_count": 6,
   "id": "89f823ad",
   "metadata": {},
   "outputs": [],
   "source": [
    "# Function to preprocess the data\n",
    "def preprocess_text(string):\n",
    "    # TODO 1: REMOVE http (html, ...) and news agencies names (Reuters, AP, ...)\n",
    "    \n",
    "    remove_words(string)\n",
    "\n",
    "    string = string.lower()\n",
    "    string = string.replace(\"'\", \" \")\n",
    "    string = string.replace(\"\\\\\", \" \")\n",
    "    string = re.sub(r\"[^a-zA-Z]\", \" \", string)\n",
    "    \n",
    "    # Removing specific words\n",
    "    string = remove_words(string)\n",
    "    \n",
    "    return string\n",
    "\n",
    "train_data[\"Description\"] = train_data[\"Description\"].apply(preprocess_text)\n",
    "test_data[\"Description\"] = test_data[\"Description\"].apply(preprocess_text)"
   ]
  },
  {
   "cell_type": "markdown",
   "id": "1ee9cec0",
   "metadata": {},
   "source": [
    "<br>\n",
    "\n",
    "**Converting dataframes to lists (needed for further functions).**"
   ]
  },
  {
   "cell_type": "code",
   "execution_count": 7,
   "id": "d8e7be7b",
   "metadata": {},
   "outputs": [],
   "source": [
    "train_data_list = train_data[\"Description\"].tolist()\n",
    "test_data_list = test_data[\"Description\"].tolist()\n",
    "train_labels_list = train_data[\"Class Index\"].tolist()\n",
    "test_labels_list = test_data[\"Class Index\"].tolist()"
   ]
  },
  {
   "cell_type": "markdown",
   "id": "0e3fa78c",
   "metadata": {},
   "source": [
    "<br>\n",
    "\n",
    "**Creating validation set (taking out 20% of train set)**"
   ]
  },
  {
   "cell_type": "code",
   "execution_count": 8,
   "id": "7be3abca",
   "metadata": {},
   "outputs": [],
   "source": [
    "(train_data_list, validation_data_list,\n",
    " train_labels_list, validation_labels_list) = train_test_split(train_data_list,\n",
    "                                                               train_labels_list,\n",
    "                                                               test_size=0.2,\n",
    "                                                               stratify=train_labels_list)"
   ]
  },
  {
   "cell_type": "markdown",
   "id": "c347e7c7",
   "metadata": {},
   "source": [
    "### Removing Stop Words\n",
    "Remove stopwords from the *stopword* corpus."
   ]
  },
  {
   "cell_type": "code",
   "execution_count": null,
   "id": "70fb6367",
   "metadata": {},
   "outputs": [],
   "source": [
    "# To be run once\n",
    "nltk.download(\"stopwords\")"
   ]
  },
  {
   "cell_type": "code",
   "execution_count": 9,
   "id": "b0ce855e",
   "metadata": {},
   "outputs": [],
   "source": [
    "def remove_stopwords(data_list):\n",
    "    stopword_list = stopwords.words(\"english\")\n",
    "    for i in range(len(data_list)):\n",
    "        data_list[i] = \" \".join(\n",
    "            [word for word in data_list[i].split() if word not in (stopword_list)]\n",
    "        )\n",
    "    return data_list"
   ]
  },
  {
   "cell_type": "code",
   "execution_count": 10,
   "id": "a91a902d",
   "metadata": {},
   "outputs": [],
   "source": [
    "# Removing the stop words\n",
    "train_data_list = remove_stopwords(train_data_list)\n",
    "validation_data_list = remove_stopwords(validation_data_list)\n",
    "test_data_list = remove_stopwords(test_data_list)"
   ]
  },
  {
   "cell_type": "markdown",
   "id": "db5ad15c",
   "metadata": {},
   "source": [
    "### LEMMATIZATION\n",
    "Applying **Lemmatization** to grammatical word variations."
   ]
  },
  {
   "cell_type": "markdown",
   "id": "c334a9ef",
   "metadata": {},
   "source": [
    "**Lemmatization**\n",
    "\n",
    "Lemmatization involves reducing words to their base or root form, known as a lemma. The primary goal of lemmatization is to group together inflected or derived forms of a word so that they can be analyzed as a single, common entity [1], [2].\n",
    "\n",
    "Lemmatization helps the model generalize across different forms of the same word. This improves the model's ability to recognize and generalize patterns in the data, especially when dealing with variations like verb tenses and plural forms [3]."
   ]
  },
  {
   "cell_type": "code",
   "execution_count": 11,
   "id": "88178b18",
   "metadata": {},
   "outputs": [],
   "source": [
    "# Lemmatization\n",
    "def lemmatize_words(data_list):\n",
    "    '''This function accepts a list of words and lemmatized them.\n",
    "    \n",
    "    data_list:\n",
    "            A list of list of words\n",
    "            \n",
    "    Return:\n",
    "            A list of list of words that has been reduced to their base form\n",
    "    '''\n",
    "    \n",
    "    # Instantiating the lemmatizer\n",
    "    lemmatizer = nltk.stem.WordNetLemmatizer()\n",
    "    \n",
    "    # Tokenizing and lemmatizing each strings\n",
    "    for i in range(len(data_list)):\n",
    "        data_list[i] = \" \".join(\n",
    "            [lemmatizer.lemmatize(token) for token in word_tokenize(data_list[i])]\n",
    "        )\n",
    "    \n",
    "    return data_list"
   ]
  },
  {
   "cell_type": "code",
   "execution_count": 12,
   "id": "f2a2262e",
   "metadata": {},
   "outputs": [],
   "source": [
    "train_data_list = lemmatize_words(train_data_list)\n",
    "validation_data_list = lemmatize_words(validation_data_list)\n",
    "test_data_list = lemmatize_words(test_data_list)"
   ]
  },
  {
   "cell_type": "markdown",
   "id": "0a09863d",
   "metadata": {},
   "source": [
    "## Recurrent Neural Network classifier with Keras and Tensorflow"
   ]
  },
  {
   "cell_type": "markdown",
   "id": "f9f4519a",
   "metadata": {},
   "source": [
    "Encoding the labels (0 -> 0001, 1 -> 0010, ...) to match NN classifier head output."
   ]
  },
  {
   "cell_type": "code",
   "execution_count": 13,
   "id": "80e23088",
   "metadata": {},
   "outputs": [
    {
     "name": "stdout",
     "output_type": "stream",
     "text": [
      "(96000, 4)\n"
     ]
    }
   ],
   "source": [
    "# The labels are of value 0, 1, 2, 3 and need to be converted to one-hot encoded vectors \n",
    "train_labels = tensorflow.keras.utils.to_categorical(np.array(train_labels_list), num_classes=4)\n",
    "validation_labels = tensorflow.keras.utils.to_categorical(np.array(validation_labels_list), num_classes=4)\n",
    "test_labels = tensorflow.keras.utils.to_categorical(np.array(test_labels_list), num_classes=4)\n",
    "print(train_labels.shape)"
   ]
  },
  {
   "cell_type": "markdown",
   "id": "c6faa39a",
   "metadata": {},
   "source": [
    "Using TextVectorization layer to convert the text to a sequence of integers. Further reading - [here](https://www.tensorflow.org/api_docs/python/tf/keras/layers/TextVectorization).\n"
   ]
  },
  {
   "cell_type": "code",
   "execution_count": 14,
   "id": "1a4fa56e",
   "metadata": {
    "scrolled": true
   },
   "outputs": [
    {
     "name": "stdout",
     "output_type": "stream",
     "text": [
      "['', '[UNK]', 'said', 'new', 'u', 'year', 'company', 'two', 'quot', 'first', 'gt', 'lt', 'monday', 'world', 'one', 'wednesday', 'tuesday', 'thursday', 'inc', 'friday', 'week', 'game', 'state', 'last', 'york', 'yesterday', 'president', 'time', 'million', 'three', 'day', 'corp', 'oil', 'stock', 'price', 'sunday', 'say', 'government', 'month', 'united', 'would', 'official', 'service', 'group', 'today', 'people', 'second', 'security', 'could', 'team', 'iraq', 'season', 'saturday', 'com', 'n', 'plan', 'percent', 'night', 'third', 'software', 'next', 'market', 'minister', 'quarter', 'microsoft', 'fullquote', 'high', 'business', 'country', 'investor', 'internet', 'announced', 'report', 'back', 'four', 'billion', 'computer', 'international', 'american', 'washington', 'system', 'technology', 'win', 'share', 'sale', 'network', 'may', 'news', 'leader', 'top', 'record', 'city', 'former', 'home', 'nation', 'player', 'victory', 'election', 'end', 'giant', 'open', 'co', 'european', 'league', 'maker', 'reported', 'largest', 'national', 'target', 'according', 'make', 'federal', 'profit', 'five', 'prime', 'final', 'killed', 'run', 'china', 'chief', 'bush', 'take', 'made', 'bank', 'expected', 'major', 'set', 'attack', 'court', 'research', 'point', 'executive', 'deal', 'ticker', 'phone', 'least', 'sport', 'online', 'london', 'cup', 'force', 'british', 'san', 'long', 'industry', 'search', 'coach', 'way', 'iraqi', 'based', 'hit', 'champion', 'series', 'south', 'another', 'since', 'help', 'police', 'palestinian', 'old', 'dollar', 'job', 'p', 'red', 'space', 'talk', 'get', 'union', 'john', 'right', 'web', 'part', 'left', 'music', 'agreed', 'product', 'early', 'cost', 'mobile', 'military', 'six', 'like', 'war', 'baghdad', 'cut', 'general', 'quickinfo', 'aspx', 'loss', 'india', 'north', 'move', 'firm', 'test', 'drug', 'consumer', 'al', 'start', 'rival', 'many', 'ago', 'round', 'bid', 'japan', 'rose', 'face', 'still', 'including', 'biggest', 'user', 'half', 'big', 'even', 'trade', 'strong', 'wireless', 'store', 'source', 'number', 'head', 'championship', 'th', 'google', 'street', 'much', 'go', 'line', 'higher', 'boston', 'play', 'released', 'agency', 'latest', 'data', 'rate', 'olympic', 'growth', 'nuclear', 'australia', 'israeli', 'held', 'car', 'earnings', 'athens', 'offer', 'charge', 'site', 'program', 'work', 'england', 'called', 'west', 'global', 'fourth', 'football', 'window', 'ibm', 'public', 'nearly', 'seven', 'result', 'man', 'russian', 'future', 'effort', 'presidential', 'free', 'demand', 'woman', 'financial', 'airline', 'militant', 'manager', 'air', 'took', 'economic', 'version', 'economy', 'found', 'foreign', 'customer', 'ahead', 'release', 'francisco', 'power', 'gold', 'fell', 'despite', 'worker', 'party', 'amp', 'key', 'contract', 'come', 'around', 'troop', 'sox', 'medium', 'quote', 'pay', 'show', 'near', 'america', 'use', 'apple', 'buy', 'also', 'chip', 'following', 'used', 'commission', 'leading', 'good', 'past', 'region', 'hope', 'well', 'tokyo', 'chicago', 'rebel', 'put', 'profile', 'hurricane', 'star', 'title', 'life', 'led', 'video', 'scientist', 'killing', 'member', 'pc', 'low', 'e', 'beat', 'october', 'press', 'september', 'per', 'gaza', 'uk', 'school', 'late', 'close', 'support', 'agreement', 'office', 'men', 'wall', 'field', 'meeting', 'bomb', 'australian', 'match', 'europe', 'capital', 'several', 'give', 'race', 'house', 'center', 'device', 'place', 'st', 'conference', 'best', 'russia', 'call', 'recent', 'hour', 'france', 'campaign', 'b', 'shot', 'department', 'french', 'bill', 'might', 'net', 'fund', 'un', 'concern', 'term', 'server', 'decision', 'scored', 'oracle', 'making', 'yard', 'whether', 'increase', 'look', 'crude', 'university', 'november', 'yankee', 'eight', 'northern', 'saying', 'change', 'case', 'digital', 'canadian', 'return', 'death', 'want', 'lower', 'interest', 'launch', 'energy', 'los', 'michael', 'board', 'political', 'without', 'peace', 'due', 'florida', 'operation', 'communication', 'claim', 'intel', 'fan', 'running', 'management', 'angeles', 'club', 'told', 'japanese', 'soldier', 'taking', 'pakistan', 'television', 'southern', 'defense', 'away', 'analyst', 'across', 'little', 'winning', 'britain', 'supply', 'offering', 'launched', 'tax', 'keep', 'authority', 'weekend', 'retailer', 'army', 'morning', 'mark', 'california', 'application', 'using', 'central', 'chairman', 'sun', 'hostage', 'straight', 'reserve', 'need', 'houston', 'become', 'israel', 'secretary', 'area', 'action', 'medal', 'information', 'iran', 'goal', 'law', 'peoplesoft', 'issue', 'mail', 'food', 'oct', 'revenue', 'rise', 'gain', 'inning', 'problem', 'control', 'quarterly', 'lost', 'exchange', 'thousand', 'linux', 'history', 'level', 'trial', 'sell', 'barrel', 'among', 'step', 'trading', 'le', 'korea', 'operating', 'holding', 'touchdown', 'senior', 'health', 'see', 'vote', 'sign', 'post', 'showed', 'battle', 'david', 'better', 'judge', 'baseball', 'side', 'file', 'warned', 'earlier', 'small', 'posted', 'grand', 'forecast', 'signed', 'money', 'ever', 'investment', 'name', 'ltd', 'performance', 'euro', 'toronto', 'accused', 'kerry', 'human', 'engine', 'unit', 'east', 'stadium', 'begin', 'fall', 'division', 'association', 'going', 'came', 'study', 'nov', 'likely', 'nine', 'administration', 'strike', 'minute', 'full', 'anti', 'got', 'august', 'font', 'child', 'began', 'order', 'indian', 'officer', 'died', 'possible', 'helped', 'threat', 'growing', 'behind', 'arafat', 'cash', 'amid', 'cent', 'opening', 'real', 'germany', 'cell', 'quarterback', 'ended', 'drive', 'darfur', 'flight', 'station', 'lawsuit', 'career', 'already', 'hold', 'access', 'canada', 'hand', 'radio', 'find', 'family', 'paris', 'sept', 'rule', 'bankruptcy', 'yet', 'speed', 'local', 'western', 'george', 'decade', 'body', 'card', 'sudan', 'afghanistan', 'white', 'gave', 'regulator', 'desktop', 'trying', 'production', 'williams', 'meet', 'far', 'injury', 'gas', 'fire', 'corporate', 'attempt', 'opposition', 'director', 'hard', 'development', 'german', 'weapon', 'popular', 'paul', 'within', 'chance', 'starting', 'policy', 'violence', 'aimed', 'african', 'takeover', 'chinese', 'event', 'injured', 'reach', 'fuel', 'soon', 'fight', 'stop', 'outside', 'muslim', 'jones', 'personal', 'main', 'known', 'employee', 'tech', 'size', 'competition', 'tour', 'researcher', 'question', 'tv', 'hundred', 'short', 'reached', 'island', 'standard', 'sony', 'heart', 'taken', 'provider', 'yasser', 'seattle', 'failed', 'large', 'filed', 'dead', 'continued', 'terrorist', 'designed', 'council', 'organization', 'looking', 'beijing', 'try', 'selling', 'list', 'electronics', 'bay', 'miami', 'enough', 'went', 'investigation', 'raised', 'motor', 'insurance', 'aid', 'manchester', 'blue', 'spain', 'must', 'know', 'drop', 'candidate', 'visit', 'great', 'challenge', 'africa', 'position', 'insurgent', 'yahoo', 'others', 'coast', 'powerful', 'green', 'thing', 'owner', 'finally', 'fear', 'toward', 'olympics', 'stake', 'pressure', 'warning', 'tool', 'cp', 'building', 'working', 'holiday', 'fired', 'movie', 'fighting', 'spending', 'turn', 'project', 'expert', 'atlanta', 'tony', 'legal', 'rally', 'enterprise', 'let', 'water', 'college', 'boost', 'moscow', 'annual', 'town', 'coming', 'storm', 'double', 'nfl', 'process', 'never', 'continue', 'survey', 'rocket', 'guard', 'every', 'feature', 'private', 'madrid', 'ipod', 'italian', 'planned', 'bowl', 'allow', 'provide', 'democratic', 'cbs', 'sent', 'risk', 'newspaper', 'getting', 'available', 'expectation', 'charged', 'machine', 'figure', 'calif', 'w', 'park', 'arsenal', 'philadelphia', 'jet', 'tournament', 'labor', 'arrested', 'processor', 'nasdaq', 'tiger', 'december', 'hospital', 'finance', 'basketball', 'suspected', 'increased', 'strip', 'carrier', 'single', 'current', 'ceo', 'republican', 'detroit', 'approved', 'ruling', 'generation', 'practice', 'named', 'ground', 'unveiled', 'eu', 'claimed', 'seen', 'rising', 'retail', 'equipment', 'decided', 'moved', 'sold', 'asked', 'staff', 'turned', 'black', 'winter', 'confirmed', 'captain', 'worth', 'later', 'virus', 'color', 'g', 'explosion', 'crisis', 'defeat', 'image', 'build', 'young', 'playoff', 'islamic', 'brown', 'mike', 'giving', 'arm', 'outlook', 'statement', 'ready', 'poll', 'focus', 'fifth', 'earth', 'think', 'satellite', 'opened', 'mission', 'received', 'browser', 'average', 'shareholder', 'activity', 'terrorism', 'fresh', 'steve', 'asian', 'louis', 'track', 'playing', 'given', 'appeal', 'x', 'ranked', 'aug', 'added', 'though', 'plane', 'singapore', 'acquisition', 'summer', 'operator', 'update', 'suicide', 'ending', 'airport', 'road', 'spokesman', 'light', 'medical', 'winner', 'advanced', 'vehicle', 'storage', 'missing', 'message', 'forward', 'break', 'range', 'camp', 'airway', 'producer', 'prison', 'asia', 'host', 'c', 'blair', 'stage', 'score', 'alleged', 'tie', 'bring', 'played', 'dvd', 'plant', 'middle', 'create', 'agent', 'developer', 'pro', 'cricket', 'commercial', 'proposal', 'pilot', 'minnesota', 'special', 'related', 'hotel', 'closer', 'benefit', 'whose', 'voter', 'debt', 'committee', 'sharon', 'ruled', 'losing', 'border', 'along', 'started', 'offensive', 'able', 'stand', 'ivan', 'attorney', 'spam', 'partner', 'clear', 'accounting', 'thought', 'bombing', 'push', 'prize', 'fraud', 'dozen', 'threatened', 'settlement', 'recently', 'mw', 'greece', 'deficit', 'johnson', 'chain', 'urged', 'proposed', 'dell', 'ireland', 'afghan', 'soccer', 'ad', 'returned', 'raise', 'july', 'role', 'leave', 'dow', 'although', 'wounded', 'jose', 'credit', 'ban', 'ten', 'initial', 'leaving', 'base', 'safety', 'mile', 'january', 'book', 'word', 'rejected', 'form', 'course', 'option', 'foot', 'entertainment', 'dutch', 'dropped', 'worry', 'scandal', 'total', 'offered', 'interim', 'congress', 'memory', 'evidence', 'became', 'moon', 'driver', 'beating', 'nyse', 'lawyer', 'forced', 'film', 'dec', 'debate', 'de', 'ryder', 'care', 'italy', 'huge', 'afternoon', 'terror', 'm', 'consecutive', 'travel', 'tonight', 'decline', 'mortgage', 'heavy', 'dispute', 'code', 'ariel', 'xp', 'wide', 'wanted', 'front', 'brought', 'spot', 'citing', 'illegal', 'witness', 'settle', 'science', 'photo', 'closed', 'slightly', 'prosecutor', 'justice', 'instead', 'golf', 'striker', 'kidnapped', 'davis', 'bond', 'merger', 'kept', 'content', 'wood', 'sending', 'seeking', 'platform', 'highest', 'picture', 'issued', 'vendor', 'parliament', 'electronic', 'aircraft', 'potential', 'nba', 'master', 'corporation', 'reason', 'damage', 'virginia', 'ministry', 'met', 'important', 'formula', 'zealand', 'struck', 'sector', 'vice', 'threw', 'singh', 'protest', 'oakland', 'miss', 'hole', 'eastern', 'draw', 'developed', 'condition', 'sans', 'passenger', 'najaf', 'la', 'cleric', 'send', 'hostile', 'fallujah', 'previous', 'community', 'asset', 'scheduled', 'remain', 'expects', 'built', 'save', 'korean', 'watch', 'suspended', 'remains', 'mean', 'eye', 'bad', 'acquire', 'spanish', 'r', 'hill', 'f', 'avoid', 'room', 'rain', 'negotiation', 'king', 'document', 'check', 'screen', 'saw', 'published', 'award', 'rest', 'hoping', 'sharply', 'session', 'dallas', 'cisco', 'blast', 'missile', 'manufacturer', 'confidence', 'carolina', 'prix', 'cleveland', 'mexico', 'worldwide', 'victim', 'verdana', 'spacecraft', 'serif', 'period', 'mass', 'join', 'hockey', 'helvetica', 'arial', 'broadband', 'supreme', 'jerusalem', 'estimate', 'delta', 'century', 'camera', 'yukos', 'student', 'stay', 'royal', 'howard', 'ball', 'appeared', 'showing', 'kong', 'boeing', 'advertising', 'shopping', 'patent', 'protection', 'probably', 'premier', 'pas', 'pace', 'hong', 'delhi', 'controversial', 'conflict', 'cardinal', 'buying', 'wind', 'together', 'telephone', 'something', 'planning', 'account', 'weather', 'fast', 'effect', 'clash', 'worst', 'solution', 'plc', 'introduced', 'arab', 'tom', 'streak', 'semiconductor', 'panel', 'classic', 'calling', 'abu', 'vladimir', 'parent', 'kabul', 'block', 'view', 'longer', 'helping', 'extended', 'export', 'reduce', 'joint', 'hollywood', 'brand', 'revealed', 'needed', 'doctor', 'disney', 'delay', 'cause', 'serious', 'ran', 'poor', 'broke', 'seek', 'ray', 'pitcher', 'passed', 'lot', 'link', 'caused', 'backed', 'spent', 'rich', 'criminal', 'cable', 'jump', 'develop', 'chelsea', 'brazil', 'astros', 'arrived', 'training', 'patriot', 'tennis', 'roger', 'slow', 'resident', 'paid', 'mart', 'intelligence', 'wal', 'sydney', 'planet', 'pittsburgh', 'marketing', 'income', 'march', 'kansa', 'display', 'story', 'purchase', 'province', 'taiwan', 'pulled', 'probe', 'j', 'debut', 'falling', 'crime', 'secure', 'linked', 'facing', 'beginning', 'tim', 'sharing', 'massive', 'mac', 'industrial', 'different', 'associated', 'senate', 'pakistani', 'james', 'christmas', 'review', 'nokia', 'measure', 'improve', 'domestic', 'announcement', 'yen', 'venture', 'l', 'auto', 'armed', 'qaeda', 'impact', 'add', 'wounding', 'strategy', 'sprint', 'opponent', 'jason', 'crowd', 'value', 'trader', 'song', 'sanction', 'raising', 'putin', 'interview', 'homer', 'fiscal', 'eagle', 'colin', 'v', 'troubled', 'telecommunication', 'tehran', 'sharp', 'republic', 'protect', 'pension', 'finding', 'believe', 'amd', 'remained', 'professional', 'index', 'surprise', 'success', 'rebound', 'michigan', 'el', 'download', 'civil', 'announce', 'trophy', 'indonesia', 'developing', 'uranium', 'earthquake', 'design', 'angel', 'struggling', 'stroke', 'row', 'peer', 'nextel', 'mid', 'filing', 'bn', 'veteran', 'common', 'studio', 'property', 'hurt', 'blow', 'turkey', 'telecom', 'setting', 'manufacturing', 'june', 'currency', 'connection', 'package', 'guilty', 'approval', 'washingtonpost', 'titan', 'pacific', 'ordered', 'moving', 'inflation', 'bos', 'bird', 'baltimore', 'allegation', 'microsystems', 'embassy', 'disease', 'bit', 'assault', 'arizona', 'hewlett', 'civilian', 'reform', 'packard', 'daily', 'cutting', 'belief', 'nigeria', 'meter', 'matter', 'express', 'refugee', 'doubt', 'continues', 'wave', 'thailand', 'diego', 'recovery', 'inside', 'ford', 'discovered', 'complete', 'zone', 'tomorrow', 'ohio', 'martin', 'exploded', 'act', 'receiver', 'pm', 'class', 'stewart', 'ranking', 'appears', 'suffered', 'racing', 'breaking', 'twice', 'sea', 'positive', 'format', 'easy', 'opportunity', 'live', 'explorer', 'democrat', 'wild', 'warner', 'tried', 'deadly', 'budget', 'alliance', 'philippine', 'page', 'nothing', 'fine', 'bear', 'auction', 'allowed', 'sadr', 'richard', 'pass', 'marine', 'mar', 'english', 'surgery', 'seventh', 'relief', 'person', 'knee', 'replace', 'plus', 'expand', 'county', 'treasury', 'offense', 'majority', 'land', 'jakarta', 'defensive', 'crew', 'trip', 'really', 'promise', 'detail', 'defending', 'becoming', 'specie', 'previously', 'itunes', 'flat', 'crash', 'suspect', 'jumped', 'hot', 'tough', 'sen', 'lift', 'fla', 'district', 'commerce', 'chart', 'voting', 'thanks', 'significant', 'progress', 'testing', 'rookie', 'looked', 'handed', 'computing', 'colorado', 'carry', 'boy', 'arrest', 'voice', 'upgrade', 'treatment', 'toll', 'robert', 'resolution', 'liverpool', 'done', 'core', 'anaheim', 'watchdog', 'twin', 'patient', 'often', 'associate', 'adding', 'par', 'output', 'ninth', 'journalist', 'finish', 'commissioner', 'client', 'brussels', 'seems', 'kashmir', 'jail', 'qualifying', 'priority', 'powell', 'friend', 'familiar', 'egypt', 'critical', 'consider', 'sure', 'joined', 'jeff', 'heating', 'grew', 'discus', 'awaited', 'non', 'msn', 'factory', 'declared', 'prospect', 'opener', 'finished', 'completed', 'comment', 'abuse', 'nhl', 'engineer', 'dolphin', 'chris', 'age', 'upcoming', 'considering', 'alan', 'strength', 'seed', 'pound', 'montreal', 'date', 'andy', 'website', 'traffic', 'sudanese', 'irish', 'ally', 'alex', 'weak', 'wake', 'saddam', 'resource', 'inventory', 'indianapolis', 'handset', 'greek', 'expo', 'edition', 'convention', 'channel', 'regional', 'prince', 'preparing', 'murder', 'apparently', 'successful', 'seat', 'retirement', 'independent', 'founder', 'expect', 'defence', 'bought', 'aim', 'saudi', 'request', 'prepared', 'o', 'includes', 'denied', 'delayed', 'brother', 'banking', 'standing', 'material', 'gulf', 'emergency', 'utah', 'reportedly', 'pick', 'payment', 'historic', 'fastest', 'allows', 'voted', 'truck', 'supporter', 'sixth', 'secret', 'prisoner', 'notre', 'missed', 'magazine', 'include', 'denver', 'dame', 'boosted', 'atomic', 'super', 'summit', 'hearing', 'entered', 'direct', 'created', 'approach', 'advance', 'speculation', 'firefox', 'copy', 'climate', 'atlantic', 'sought', 'living', 'involved', 'indonesian', 'bringing', 'worm', 'rock', 'quickly', 'portable', 'mutual', 'karzai', 'expansion', 'cancer', 'ranger', 'idea', 'democracy', 'broker', 'blood', 'son', 'scoring', 'heat', 'handheld', 'fighter', 'explosive', 'wi', 'train', 'pre', 'patch', 'nascar', 'msft', 'headed', 'hamid', 'cub', 'believed', 'begun', 'shiite', 'putting', 'pair', 'pack', 'kevin', 'hussein', 'coalition', 'allegedly', 'vioxx', 'ship', 'response', 'pull', 'merck', 'joe', 'individual', 'immediately', 'hat', 'diplomat', 'crucial', 'carlos', 'bus', 'barry', 'ukraine', 'semifinal', 'resigned', 'regular', 'natural', 'islamabad', 'improved', 'eighth', 'charles', 'certain', 'cabinet', 'antitrust', 'advantage', 'suit', 'pitch', 'opec', 'moment', 'helicopter', 'continuing', 'carrying', 'widely', 'tell', 'mets', 'indiana', 'flu', 'enron', 'craig', 'competitor', 'speech', 'rather', 'owned', 'declined', 'deadline', 'always', 'warming', 'via', 'upset', 'tight', 'placed', 'pedro', 'enrichment', 'draft', 'closing', 'admitted', 'crashed', 'surged', 'journal', 'hardware', 'faster', 'disaster', 'astronaut', 'anticipated', 'trouble', 'spend', 'remote', 'pt', 'mozilla', 'kill', 'info', 'evening', 'address', 'promised', 'partnership', 'cincinnati', 'wrong', 'ticket', 'smith', 'premiership', 'preliminary', 'motion', 'increasingly', 'edge', 'allowing', 'turning', 'shut', 'sbc', 'mp', 'georgia', 'forest', 'donald', 'deep', 'attention', 'ag', 'reporter', 'ivory', 'database', 'changed', 'capacity', 'acquired', 'wale', 'teammate', 'tampa', 'sir', 'shooting', 'separate', 'radical', 'overtime', 'brian', 'brave', 'wayne', 'tennessee', 'sky', 'rare', 'pushed', 'nl', 'nationwide', 'girl', 'dodger', 'choice', 'broadcast', 'smart', 'situation', 'remaining', 'pharmaceutical', 'overnight', 'increasing', 'hamas', 'haiti', 'ebay', 'threatening', 'renewed', 'newly', 'militia', 'environment', 'driven', 'bell', 'beach', 'lawmaker', 'kind', 'facility', 'ask', 'spyware', 'smaller', 'novell', 'era', 'electric', 'claiming', 'withdrawal', 'vowed', 'java', 'investigating', 'gunman', 'extra', 'deputy', 'br', 'berlin', 'shuttle', 'ottawa', 'musharraf', 'martinez', 'instant', 'fact', 'wicket', 'vienna', 'representative', 'loan', 'edged', 'ballot', 'wife', 'recording', 'lose', 'drove', 'decide', 'cross', 'cnn', 'unbeaten', 'traditional', 'micro', 'disappointing', 'subscriber', 'struggle', 'semi', 'schedule', 'raid', 'oklahoma', 'nintendo', 'gone', 'failure', 'answer', 'tiny', 'technical', 'surge', 'similar', 'launching', 'gary', 'copyright', 'cingular', 'unless', 'stronger', 'rallied', 'port', 'flood', 'falluja', 'walt', 'scotland', 'reporting', 'mind', 'greater', 'flaw', 'defeated', 'box', 'tackle', 'ring', 'mine', 'milan', 'insurer', 'heading', 'governor', 'fee', 'celtic', 'broken', 'beyond', 'amount', 'airbus', 'keeping', 'jacques', 'wait', 'steel', 'publisher', 'overall', 'kick', 'extend', 'deliver', 'bomber', 'shipping', 'resume', 'rating', 'protocol', 'prevent', 'pga', 'officially', 'jhtml', 'jay', 'involving', 'centre', 'van', 'shift', 'seoul', 'read', 'nikkei', 'lack', 'internal', 'feel', 'exporter', 'agree', 'withdraw', 'sym', 'sex', 'relation', 'qtype', 'qcat', 'newcastle', 'leadership', 'infotype', 'hall', 'hacker', 'financequotelookup', 'emerged', 'communist', 'bryant', 'solid', 'recall', 'pervez', 'penalty', 'jr', 'faced', 'eased', 'annan', 'allawi', 'writer', 'virgin', 'territory', 'style', 'river', 'larry', 'frank', 'franchise', 'expressed', 'dream', 'cover', 'soaring', 'peter', 'pacer', 'mr', 'mixed', 'love', 'flash', 'federer', 'construction', 'bin', 'spring', 'qualifier', 'messaging', 'marathon', 'limit', 'letter', 'fi', 'dramatic', 'ability', 'reaching', 'manning', 'jan', 'entire', 'commander', 'attacked', 'supercomputer', 'sri', 'shock', 'ron', 'resort', 'refused', 'ongoing', 'lineup', 'leg', 'jury', 'initiative', 'holy', 'disc', 'criticism', 'considered', 'art', 'throughout', 'stem', 'soft', 'programme', 'picked', 'perhaps', 'jewish', 'guerrilla', 'compete', 'caught', 'announcing', 'typhoon', 'taliban', 'separatist', 'provided', 'ny', 'kofi', 'h', 'dominated', 'cold', 'appear', 'anyone', 'signing', 'seeded', 'language', 'lake', 'gate', 'either', 'egyptian', 'captured', 'auburn', 'theft', 'limited', 'lifted', 'jersey', 'housing', 'fly', 'ceremony', 'thomas', 'sound', 'social', 'mountain', 'marsh', 'hitting', 'halt', 'cuba', 'creating', 'aol', 'traded', 'swiss', 'subsidiary', 'scott', 'restructuring', 'legislation', 'insisted', 'hp', 'verizon', 'sued', 'quite', 'identity', 'however', 'graphic', 'failing', 'equity', 'environmental', 'edward', 'doubled', 'citizen', 'capability', 'bob', 'antonio', 'accept', 'scientific', 'redskin', 'massachusetts', 'labour', 'fannie', 'email', 'drew', 'doping', 'bar', 'spread', 'monitor', 'improving', 'fix', 'driving', 'brazilian', 'beta', 'supplier', 'paper', 'onto', 'monetary', 'lion', 'infrastructure', 'gun', 'couple', 'bottom', 'au', 'assistant', 'waiting', 'visiting', 'signal', 'seemed', 'saving', 'samsung', 'resignation', 'quality', 'produce', 'possibly', 'managed', 'mae', 'laden', 'catch', 'brokerage', 'april', 'alternative', 'toy', 'postseason', 'orleans', 'institute', 'friendly', 'freed', 'fellow', 'elected', 'buyer', 'square', 'saturn', 'pitched', 'networking', 'gained', 'everything', 'columbia', 'ca', 'vijay', 'unlikely', 'trend', 'stepped', 'seized', 'preseason', 'laboratory', 'carried', 'bobby', 'bbc', 'zimbabwe', 'task', 'sentenced', 'rover', 'pledged', 'pleaded', 'piece', 'owen', 'lee', 'joining', 'injuring', 'highly', 'ease', 'distance', 'difficult', 'chase', 'bangladesh', 'watched', 'self', 'jack', 'investigator', 'ii', 'foundation', 'extension', 'ex', 'dual', 'door', 'closely', 'appearance', 'amazon', 'suspension', 'shrine', 'providing', 'potentially', 'orlando', 'inch', 'heard', 'enter', 'dangerous', 'walk', 'vulnerability', 'slipped', 'returning', 'lewis', 'lay', 'jim', 'hewitt', 'grow', 'dismissed', 'circuit', 'uefa', 'rome', 'pushing', 'predicted', 'jean', 'heavyweight', 'embattled', 'anniversary', 'animal', 'suffering', 'southeast', 'headquarters', 'experience', 'casino', 'banned', 'ali', 'utility', 'tree', 'switch', 'piracy', 'movement', 'mining', 'martha', 'knew', 'expanding', 'education', 'comeback', 'bigger', 'violent', 'type', 'syria', 'stopped', 'receive', 'paying', 'packer', 'notebook', 'iranian', 'greenspan', 'forum', 'favorite', 'curt', 'console', 'cassini', 'argentina', 'anything', 'towards', 'torn', 'starter', 'scale', 'possibility', 'politician', 'improvement', 'fought', 'component', 'complaint', 'climbed', 'chemical', 'chechen', 'usa', 'toshiba', 'shipment', 'roddick', 'perfect', 'offset', 'father', 'described', 'corruption', 'born', 'talking', 'strategic', 'shop', 'morgan', 'library', 'ken', 'import', 'coup', 'aide', 'va', 'trust', 'scene', 'raven', 'poised', 'matt', 'maria', 'discount', 'delivered', 'convicted', 'bigley', 'band', 'plot', 'k', 'hear', 'brain', 'appointed', 'additional', 'activist', 'steroid', 'relationship', 'reduced', 'quit', 'produced', 'ocean', 'model', 'introduce', 'ice', 'hike', 'flying', 'fish', 'expanded', 'distribution', 'apparent', 'affair', 'solar', 'shell', 'rooney', 'navy', 'lanka', 'incident', 'everyone', 'earned', 'desert', 'colt', 'beckham', 'barcelona', 'alive', 'writes', 'universal', 'successor', 'relative', 'expense', 'controlled', 'can', 'andrew', 'accepted', 'stronghold', 'squad', 'greatest', 'collapse', 'automaker', 'astronomer', 'ankle', 'successfully', 'subject', 'struggled', 'serve', 'responsible', 'resolve', 'netherlands', 'larger', 'largely', 'kobe', 'jackson', 'guy', 'gordon', 'estimated', 'emerging', 'critic', 'andre', 'adam', 'venezuela', 'tourist', 'sunni', 'suggested', 'safe', 'roll', 'rank', 'presence', 'pipeline', 'philip', 'osama', 'mclennan', 'landmark', 'ill', 'fair', 'espn', 'delivery', 'aside', 'tied', 'surface', 'prove', 'malaysia', 'hamm', 'gaming', 'focused', 'demanding', 'arthritis', 'wire', 'watching', 'tank', 'status', 'slam', 'rolled', 'rescue', 'petroleum', 'northeast', 'lowest', 'lleyton', 'jeanne', 'illegally', 'entry', 'controversy', 'congo', 'compared', 'causing', 'athletics', 'arena', 'spirit', 'ousted', 'nigerian', 'multi', 'mayor', 'license', 'hired', 'effective', 'easier', 'competitive', 'bitter', 'athlete', 'village', 'vega', 'tropical', 'targeting', 'steelers', 'steady', 'responsibility', 'producing', 'piston', 'overseas', 'ip', 'assist', 'assembly', 'vaccine', 'seem', 'pop', 'organisation', 'not', 'inquiry', 'especially', 'combat', 'accusing', 'worried', 'vietnam', 'sweep', 'stephen', 'silicon', 'retired', 'population', 'negotiator', 'mount', 'kidnapper', 'jaguar', 'included', 'currently', 'conservative', 'cbc', 'caribbean', 'cap', 'bridge', 'weaker', 'serving', 'regulatory', 'privately', 'immediate', 'wage', 'showdown', 'sentence', 'mosque', 'jordan', 'famous', 'drink', 'cool', 'clothing', 'blog', 'battery', 'amsterdam', 'transfer', 'string', 'solaris', 'palm', 'justin', 'horse', 'homered']\n"
     ]
    }
   ],
   "source": [
    "# this will create a vocabulary of the top 2500 words and then convert the text to a sequence of numbers\n",
    "\n",
    "vocab_size = 2500 # how many of the most frequent words to keep\n",
    "\n",
    "sequence_length = 30 # how many words we use to represent a description\n",
    "\n",
    "vectorizer = TextVectorization(max_tokens=vocab_size, output_sequence_length=sequence_length)\n",
    "\n",
    "# fit the vectorizer on the training data (find the most common words and assign values to them)\n",
    "vectorizer.adapt(train_data_list)\n",
    "\n",
    "# show the selected words\n",
    "print(vectorizer.get_vocabulary())"
   ]
  },
  {
   "cell_type": "markdown",
   "id": "09962734",
   "metadata": {},
   "source": [
    "<br>\n",
    "\n",
    "**Transforming the dataset with the fitted TextVectorizer**"
   ]
  },
  {
   "cell_type": "code",
   "execution_count": 15,
   "id": "6a0d10bf",
   "metadata": {},
   "outputs": [
    {
     "name": "stdout",
     "output_type": "stream",
     "text": [
      "(96000, 30)\n"
     ]
    }
   ],
   "source": [
    "# vectorizing the training data (replace words by their associated values)\n",
    "train_data_vectorized = vectorizer(train_data_list)\n",
    "\n",
    "# vectorizing the validation data\n",
    "validation_data_vectorized = vectorizer(validation_data_list)\n",
    "\n",
    "# vectorizing the test data\n",
    "test_data_vectorized = vectorizer(test_data_list)\n",
    "\n",
    "# this shape shows that we have our 96000 training examples, each as a vector of 30 integers\n",
    "print(train_data_vectorized.shape)"
   ]
  },
  {
   "cell_type": "code",
   "execution_count": 16,
   "id": "7d961fe0",
   "metadata": {},
   "outputs": [
    {
     "name": "stdout",
     "output_type": "stream",
     "text": [
      "tf.Tensor(\n",
      "[   1  149  574 2215    1 1644  309  110 1832  574  533  601    1  574\n",
      "  226    1 2164    1    0    0    0    0    0    0    0    0    0    0\n",
      "    0    0], shape=(30,), dtype=int64)\n"
     ]
    }
   ],
   "source": [
    "# How a vectorized news description looks like\n",
    "print(train_data_vectorized[1])"
   ]
  },
  {
   "cell_type": "markdown",
   "id": "986d20a2",
   "metadata": {},
   "source": [
    "<br>\n",
    "\n",
    "**Building a RNN.**\n",
    "\n",
    "An *Embedding layer* was used to convert the integer sequences to embeddings. How it works - [here](https://www.tensorflow.org/api_docs/python/tf/keras/layers/Embedding).\n",
    "\n",
    "The Bidirectional layer takes the input and passes it forwards and backwards through the LSTM (Long-Short Term Memory) layer. It allows the network to learn the context of the sentence in both directions, so information from both previous and following words is taken into account.\n"
   ]
  },
  {
   "cell_type": "markdown",
   "id": "bdb68d68",
   "metadata": {},
   "source": [
    "**Baseline RNN model**"
   ]
  },
  {
   "cell_type": "code",
   "execution_count": 17,
   "id": "665e4b37",
   "metadata": {
    "scrolled": false
   },
   "outputs": [
    {
     "name": "stdout",
     "output_type": "stream",
     "text": [
      "Model: \"sequential\"\n",
      "_________________________________________________________________\n",
      " Layer (type)                Output Shape              Param #   \n",
      "=================================================================\n",
      " embedding (Embedding)       (None, None, 32)          80000     \n",
      "                                                                 \n",
      " bidirectional (Bidirectiona  (None, 64)               16640     \n",
      " l)                                                              \n",
      "                                                                 \n",
      " dense (Dense)               (None, 4)                 260       \n",
      "                                                                 \n",
      "=================================================================\n",
      "Total params: 96,900\n",
      "Trainable params: 96,900\n",
      "Non-trainable params: 0\n",
      "_________________________________________________________________\n",
      "Epoch 1/5\n",
      "750/750 [==============================] - 49s 57ms/step - loss: 0.4576 - accuracy: 0.8366 - val_loss: 0.3480 - val_accuracy: 0.8804\n",
      "Epoch 2/5\n",
      "750/750 [==============================] - 38s 51ms/step - loss: 0.3157 - accuracy: 0.8913 - val_loss: 0.3298 - val_accuracy: 0.8845\n",
      "Epoch 3/5\n",
      "750/750 [==============================] - 36s 48ms/step - loss: 0.2983 - accuracy: 0.8964 - val_loss: 0.3350 - val_accuracy: 0.8823\n",
      "Epoch 4/5\n",
      "750/750 [==============================] - 37s 49ms/step - loss: 0.2872 - accuracy: 0.8991 - val_loss: 0.3306 - val_accuracy: 0.8848\n",
      "Epoch 5/5\n",
      "750/750 [==============================] - 43s 57ms/step - loss: 0.2765 - accuracy: 0.9028 - val_loss: 0.3296 - val_accuracy: 0.8838\n",
      "238/238 [==============================] - 4s 9ms/step\n",
      "\n",
      "Test Set Accuracy:  0.8839473684210526\n"
     ]
    },
    {
     "data": {
      "text/plain": [
       "<AxesSubplot:>"
      ]
     },
     "execution_count": 17,
     "metadata": {},
     "output_type": "execute_result"
    },
    {
     "data": {
      "image/png": "[encoded data removed]",
      "text/plain": [
       "<Figure size 720x504 with 2 Axes>"
      ]
     },
     "metadata": {
      "needs_background": "light"
     },
     "output_type": "display_data"
    }
   ],
   "source": [
    "model = Sequential()\n",
    "model.add(Embedding(vocab_size, 32))\n",
    "model.add(Bidirectional(LSTM(32)))\n",
    "model.add(Dense(4, activation=\"softmax\"))\n",
    "\n",
    "model.summary()\n",
    "\n",
    "# compile the model\n",
    "model.compile(loss=\"categorical_crossentropy\", optimizer=\"adam\", metrics=[\"accuracy\"])\n",
    "\n",
    "# fit the model\n",
    "model.fit(\n",
    "    train_data_vectorized,\n",
    "    train_labels,\n",
    "    epochs=5,\n",
    "    batch_size=128,\n",
    "    verbose=1,\n",
    "    validation_data=(validation_data_vectorized, validation_labels),\n",
    ")\n",
    "\n",
    "# predict the labels on the test data\n",
    "rnn_predictions = model.predict(test_data_vectorized)\n",
    "# since predictions are one-hot encoded, we convert them to an int label taking the output with higher value\n",
    "rnn_predictions = np.argmax(rnn_predictions, axis=1)\n",
    "\n",
    "# calculate the accuracy score\n",
    "accuracy = accuracy_score(test_labels_list, rnn_predictions)\n",
    "print(\"\\nTest Set Accuracy: \", accuracy)\n",
    "# create a confusion matrix\n",
    "cm = confusion_matrix(test_labels_list, rnn_predictions)\n",
    "# plot the confusion matrix\n",
    "plt.figure(figsize=(10, 7))\n",
    "sns.heatmap(cm, annot=True, fmt=\"d\", xticklabels=label_names, yticklabels=label_names)"
   ]
  },
  {
   "cell_type": "markdown",
   "id": "55464c77",
   "metadata": {},
   "source": [
    "# Creating Example Predictions\n",
    "\n",
    "To test the model, some fresh sample news were created (copied them from a news site like BBC) to see if the model can predict the correct labels. One example was used per class.\n",
    "\n",
    "Also, one example that gets misclassified was found."
   ]
  },
  {
   "cell_type": "code",
   "execution_count": 18,
   "id": "af2db3b1",
   "metadata": {},
   "outputs": [
    {
     "name": "stdout",
     "output_type": "stream",
     "text": [
      "1/1 [==============================] - 0s 34ms/step\n",
      "NN classifier prediction:  World News\n",
      "NN classifier prediction:  Sports News\n",
      "NN classifier prediction:  Business News\n",
      "NN classifier prediction:  Sci/Tech News\n",
      "NN classifier prediction:  Sports News\n"
     ]
    }
   ],
   "source": [
    "sample_news = list()\n",
    "# Creating some fresh sample news (copied them from a news site like BBC) to see if the model can predict the correct labels\n",
    "# Using one example per class\n",
    "sample_news.append(\"Secretary of State Antony Blinken and Mexican President Andrés \\\n",
    "                   Manuel López Obrador discussed how to stop the flow of people \\\n",
    "                   in talks held in Mexico City.\") # world news\n",
    "\n",
    "sample_news.append(\"Newcastle United are confident they can agree a deal to sign \\\n",
    "                   England midfielder Kalvin Phillips from Manchester City but \\\n",
    "                   face competition from Juventus, Everton and Crystal Palace \\\n",
    "                   for the 28-year-old\") # Sports news\n",
    "\n",
    "sample_news.append(\"virgin blue shares plummet 20% shares in australian budget \\\n",
    "                   airline virgin blue plunged 20% after it warned of a steep \\\n",
    "                   fall in full year profits.  virgin blue said profits after \\\n",
    "                   tax for the year to march would be between 10% to 15% lower \\\n",
    "                   than the previous year.\") # Business news\n",
    "\n",
    "sample_news.append(\"There was a time when more than one of your TVs, computers, \\\n",
    "                   speaker systems or other essential electronic goods would \\\n",
    "                   have been made by Toshiba.\")  # sci/tech news\n",
    "\n",
    "# One example that gets misclassified.\n",
    "sample_news.append(\"As her club sound goes overground, the Korean-born \\\n",
    "                   musician comes third in Radio 1's Sound of 2024.\") # Entertainment news\n",
    "\n",
    "# preprocessing the sample news\n",
    "sample_news = [preprocess_text(i) for i in sample_news]\n",
    "sample_news = remove_stopwords(sample_news)\n",
    "\n",
    "# Lemmatization of the fresh sample news\n",
    "sample_news = lemmatize_words(sample_news)\n",
    "\n",
    "# vectorizing the sample news\n",
    "sample_news_vectorized = vectorizer(sample_news)\n",
    "\n",
    "# predict using the neural network\n",
    "prediction = model.predict(sample_news_vectorized)\n",
    "prediction = np.argmax(prediction, axis=1)\n",
    "for i in prediction:\n",
    "     print(\"NN classifier prediction: \", label_names[prediction[i]], \"News\")\n"
   ]
  },
  {
   "cell_type": "markdown",
   "id": "e437b2f7",
   "metadata": {},
   "source": [
    "The misclassification of a particular news article stems from its content being related to entertainment, a category not explicitly covered during the training of the neural network.\n",
    "\n",
    "In the absence of specific training on entertainment news, the model lacks the necessary knowledge to accurately classify such articles.\n",
    "\n",
    "Consequently, the model resorts to assigning the news article to the category with the highest probability among the classes it was trained on, resulting in an inaccurate classification.\n",
    "\n",
    "To enhance the model's performance on entertainment-related content, it would be imperative to include relevant training data and possibly fine-tune the model to recognize patterns specific to this genre."
   ]
  },
  {
   "cell_type": "markdown",
   "id": "2d844582",
   "metadata": {},
   "source": [
    "## A new model\n",
    "Improving the RNN model that beats the baseline RNN"
   ]
  },
  {
   "cell_type": "markdown",
   "id": "0e12c470",
   "metadata": {},
   "source": [
    "Given the nature of the task that revolves around modeling sequential data, it is prudent to maintain the utilization of a recurrent neural network (RNN). The decision to retain the RNN is grounded in its effectiveness in handling sequential data, particularly in the domain of Natural Language tasks. This choice aligns with established practices in leveraging RNNs for their inherent capabilities in capturing contextual dependencies within sequential information. [4].\n",
    "\n",
    "The following are the strategies that will be adopted in an attempt to improve the performance of the model in terms of its accuracy\n",
    "\n",
    " - **Number of neurons :**\n",
    "      As an initial strategy to improve the neural network's performance, an adjustment to the model complexity will be made. Specifically, the number of units within the LSTM layer will be increased from 32 to 64. This modification aims to empower the model in capturing more intricate patterns inherent in the data [5].\n",
    "        \n",
    "      \n",
    " - **Number of Epoch :**\n",
    "      Training the model for an extended number of epochs offers increased chances for generalization beyond the training set, potentially enhancing performance on unseen data and contributing to a more robust overall generalization. The epoch will be increased from 5 in the baseline model to 15 in the following model training..\n",
    "\n",
    "\n",
    " - **Early stopping :**\n",
    "     Another technique to consider is early stopping, a strategy that terminates training when a specified criterion is reached. This involves monitoring the validation error and halting training if there is no significant decrease after a set number of epochs. Early stopping has the potential to enhance generalization by preventing overfitting. Increasing the number of epochs facilitates ongoing performance monitoring and fine-tuning of the model.\n",
    "\n",
    "\n",
    "In the initial model, validation loss and accuracy fluctuated, worsening at the fourth epoch but improving afterward. Extending the number of epochs enables a more thorough evaluation, and the addition of early stopping ensures efficient training by terminating when no substantial improvement is detected, therefor avoiding overfitting and saving time."
   ]
  },
  {
   "cell_type": "markdown",
   "id": "e2122eaa",
   "metadata": {},
   "source": [
    "### Retraining the model with increased `neurons` and `epochs`"
   ]
  },
  {
   "cell_type": "code",
   "execution_count": 19,
   "id": "c6a638d5",
   "metadata": {
    "scrolled": false
   },
   "outputs": [
    {
     "name": "stdout",
     "output_type": "stream",
     "text": [
      "Model: \"sequential_1\"\n",
      "_________________________________________________________________\n",
      " Layer (type)                Output Shape              Param #   \n",
      "=================================================================\n",
      " embedding_1 (Embedding)     (None, None, 64)          160000    \n",
      "                                                                 \n",
      " bidirectional_1 (Bidirectio  (None, 128)              66048     \n",
      " nal)                                                            \n",
      "                                                                 \n",
      " dense_1 (Dense)             (None, 4)                 516       \n",
      "                                                                 \n",
      "=================================================================\n",
      "Total params: 226,564\n",
      "Trainable params: 226,564\n",
      "Non-trainable params: 0\n",
      "_________________________________________________________________\n",
      "Epoch 1/10\n",
      "750/750 [==============================] - 124s 159ms/step - loss: 0.4363 - accuracy: 0.8428 - val_loss: 0.3442 - val_accuracy: 0.8830\n",
      "Epoch 2/10\n",
      "750/750 [==============================] - 105s 140ms/step - loss: 0.3134 - accuracy: 0.8906 - val_loss: 0.3331 - val_accuracy: 0.8845\n",
      "Epoch 3/10\n",
      "750/750 [==============================] - 107s 143ms/step - loss: 0.2950 - accuracy: 0.8970 - val_loss: 0.3249 - val_accuracy: 0.8852\n",
      "Epoch 4/10\n",
      "750/750 [==============================] - 104s 139ms/step - loss: 0.2802 - accuracy: 0.9008 - val_loss: 0.3208 - val_accuracy: 0.8889\n",
      "Epoch 5/10\n",
      "750/750 [==============================] - 106s 142ms/step - loss: 0.2631 - accuracy: 0.9063 - val_loss: 0.3401 - val_accuracy: 0.8821\n",
      "Epoch 6/10\n",
      "750/750 [==============================] - 108s 144ms/step - loss: 0.2481 - accuracy: 0.9109 - val_loss: 0.3265 - val_accuracy: 0.8852\n",
      "Epoch 7/10\n",
      "750/750 [==============================] - 107s 142ms/step - loss: 0.2330 - accuracy: 0.9162 - val_loss: 0.3438 - val_accuracy: 0.8839\n",
      "238/238 [==============================] - 8s 22ms/step\n",
      "\n",
      "Test Set Accuracy:  0.885\n"
     ]
    },
    {
     "data": {
      "text/plain": [
       "<AxesSubplot:>"
      ]
     },
     "execution_count": 19,
     "metadata": {},
     "output_type": "execute_result"
    },
    {
     "data": {
      "image/png": "[encoded data removed]",
      "text/plain": [
       "<Figure size 720x504 with 2 Axes>"
      ]
     },
     "metadata": {
      "needs_background": "light"
     },
     "output_type": "display_data"
    }
   ],
   "source": [
    "# Instantiating the Model\n",
    "tuned_model = Sequential()\n",
    "tuned_model.add(Embedding(vocab_size, 64)) \n",
    "tuned_model.add(Bidirectional(LSTM(64))) # Increasing the number of units\n",
    "tuned_model.add(Dense(4, activation=\"softmax\"))\n",
    "\n",
    "tuned_model.summary()\n",
    "\n",
    "# compile the model\n",
    "tuned_model.compile(loss=\"categorical_crossentropy\", optimizer=\"adam\", metrics=[\"accuracy\"])\n",
    "\n",
    "# Early stopping callback\n",
    "early_stopping = EarlyStopping(monitor='val_loss', patience=3, restore_best_weights=True)\n",
    "\n",
    "\n",
    "# fit the model\n",
    "tuned_model.fit(\n",
    "    train_data_vectorized,\n",
    "    train_labels,\n",
    "    epochs=10,\n",
    "    batch_size=128,\n",
    "    verbose=1,\n",
    "    validation_data=(validation_data_vectorized, validation_labels),\n",
    "    callbacks=[early_stopping], # including early stopping\n",
    ")\n",
    "\n",
    "# predict the labels on the test data\n",
    "tuned_rnn_predictions = tuned_model.predict(test_data_vectorized)\n",
    "# since predictions are one-hot encoded, we convert them to an int label taking the output with higher value\n",
    "tuned_rnn_predictions = np.argmax(tuned_rnn_predictions, axis=1)\n",
    "\n",
    "# calculate the accuracy score\n",
    "tuned_model_accuracy = accuracy_score(test_labels_list, tuned_rnn_predictions)\n",
    "print(\"\\nTest Set Accuracy: \", tuned_model_accuracy)\n",
    "# create a confusion matrix\n",
    "cm = confusion_matrix(test_labels_list, tuned_rnn_predictions)\n",
    "# plot the confusion matrix\n",
    "plt.figure(figsize=(10, 7))\n",
    "sns.heatmap(cm, annot=True, fmt=\"d\", xticklabels=label_names, yticklabels=label_names)"
   ]
  },
  {
   "cell_type": "markdown",
   "id": "d48f4cda",
   "metadata": {},
   "source": [
    "#### Making Predictions with the newly trained model"
   ]
  },
  {
   "cell_type": "code",
   "execution_count": 20,
   "id": "9fcbde73",
   "metadata": {},
   "outputs": [
    {
     "name": "stdout",
     "output_type": "stream",
     "text": [
      "1/1 [==============================] - 0s 41ms/step\n",
      "NN classifier prediction:  World News\n",
      "NN classifier prediction:  Sports News\n",
      "NN classifier prediction:  Business News\n",
      "NN classifier prediction:  Sci/Tech News\n",
      "NN classifier prediction:  Sports News\n"
     ]
    }
   ],
   "source": [
    "# predict using the neural network\n",
    "prediction = tuned_model.predict(sample_news_vectorized)\n",
    "prediction = np.argmax(prediction, axis=1)\n",
    "for i in prediction:\n",
    "     print(\"NN classifier prediction: \", label_names[prediction[i]], \"News\")"
   ]
  },
  {
   "cell_type": "markdown",
   "id": "64af7594",
   "metadata": {},
   "source": [
    "The obtained results indicate a slight improvement of 0.11% in the test accuracy, signifying improved performance of the model on previously unseen data in comparison to the baseline model.\n",
    "\n",
    "However, a noteworthy concern arises upon inspecting the confusion matrix heatmap, revealing an increase in the number of misclassification for some of the classes in the newly trained model and only `Business news` class shows a significant improvement in its classification.\n",
    "\n",
    "This shift in the confusion matrix pattern may be attributed to the potential influence of an imbalanced dataset.\n",
    "\n",
    "Observing the model metrics, the validation accuracy attained its highest value at 4th epoch, then keeps flunctuating afterwards while the training accuracy continued to increase. This is an indication of overfitting as the model was struggling to generalize to unseen data."
   ]
  },
  {
   "cell_type": "markdown",
   "id": "73e59238",
   "metadata": {},
   "source": [
    "### Retraining the model with increased batch size"
   ]
  },
  {
   "cell_type": "code",
   "execution_count": 21,
   "id": "a855d378",
   "metadata": {
    "scrolled": false
   },
   "outputs": [
    {
     "name": "stdout",
     "output_type": "stream",
     "text": [
      "Model: \"sequential_2\"\n",
      "_________________________________________________________________\n",
      " Layer (type)                Output Shape              Param #   \n",
      "=================================================================\n",
      " embedding_2 (Embedding)     (None, None, 32)          80000     \n",
      "                                                                 \n",
      " bidirectional_2 (Bidirectio  (None, 128)              49664     \n",
      " nal)                                                            \n",
      "                                                                 \n",
      " dense_2 (Dense)             (None, 4)                 516       \n",
      "                                                                 \n",
      "=================================================================\n",
      "Total params: 130,180\n",
      "Trainable params: 130,180\n",
      "Non-trainable params: 0\n",
      "_________________________________________________________________\n",
      "Epoch 1/10\n",
      "375/375 [==============================] - 96s 240ms/step - loss: 0.5242 - accuracy: 0.8056 - val_loss: 0.3636 - val_accuracy: 0.8761\n",
      "Epoch 2/10\n",
      "375/375 [==============================] - 76s 203ms/step - loss: 0.3383 - accuracy: 0.8843 - val_loss: 0.3420 - val_accuracy: 0.8833\n",
      "Epoch 3/10\n",
      "375/375 [==============================] - 76s 202ms/step - loss: 0.3088 - accuracy: 0.8940 - val_loss: 0.3395 - val_accuracy: 0.8848\n",
      "Epoch 4/10\n",
      "375/375 [==============================] - 79s 211ms/step - loss: 0.2937 - accuracy: 0.8973 - val_loss: 0.3343 - val_accuracy: 0.8857\n",
      "Epoch 5/10\n",
      "375/375 [==============================] - 90s 239ms/step - loss: 0.2825 - accuracy: 0.9010 - val_loss: 0.3404 - val_accuracy: 0.8844\n",
      "Epoch 6/10\n",
      "375/375 [==============================] - 77s 205ms/step - loss: 0.2733 - accuracy: 0.9044 - val_loss: 0.3389 - val_accuracy: 0.8847\n",
      "Epoch 7/10\n",
      "375/375 [==============================] - 76s 204ms/step - loss: 0.2615 - accuracy: 0.9081 - val_loss: 0.3331 - val_accuracy: 0.8845\n",
      "Epoch 8/10\n",
      "375/375 [==============================] - 77s 205ms/step - loss: 0.2510 - accuracy: 0.9116 - val_loss: 0.3409 - val_accuracy: 0.8830\n",
      "Epoch 9/10\n",
      "375/375 [==============================] - 79s 209ms/step - loss: 0.2426 - accuracy: 0.9145 - val_loss: 0.3408 - val_accuracy: 0.8841\n",
      "Epoch 10/10\n",
      "375/375 [==============================] - 77s 206ms/step - loss: 0.2327 - accuracy: 0.9172 - val_loss: 0.3429 - val_accuracy: 0.8843\n",
      "238/238 [==============================] - 5s 15ms/step\n",
      "\n",
      "Test Set Accuracy:  0.8836842105263157\n"
     ]
    },
    {
     "data": {
      "text/plain": [
       "<AxesSubplot:>"
      ]
     },
     "execution_count": 21,
     "metadata": {},
     "output_type": "execute_result"
    },
    {
     "data": {
      "image/png": "[encoded data removed]",
      "text/plain": [
       "<Figure size 720x504 with 2 Axes>"
      ]
     },
     "metadata": {
      "needs_background": "light"
     },
     "output_type": "display_data"
    }
   ],
   "source": [
    "# Instantiating the Model\n",
    "second_tuned_model = Sequential()\n",
    "second_tuned_model.add(Embedding(vocab_size, 32)) \n",
    "second_tuned_model.add(Bidirectional(LSTM(64))) # The number of units has been increased to 64 as against 32 in the baseline model\n",
    "second_tuned_model.add(Dense(4, activation=\"softmax\"))\n",
    "\n",
    "second_tuned_model.summary()\n",
    "\n",
    "# compile the model\n",
    "second_tuned_model.compile(loss=\"categorical_crossentropy\", optimizer=\"adam\", metrics=[\"accuracy\"])\n",
    "\n",
    "# Early stopping callback\n",
    "early_stopping = EarlyStopping(monitor='val_loss', patience=3, restore_best_weights=True)\n",
    "\n",
    "\n",
    "# fit the model\n",
    "second_tuned_model.fit(\n",
    "    train_data_vectorized,\n",
    "    train_labels,\n",
    "    epochs=10,\n",
    "    batch_size=256,\n",
    "    verbose=1,\n",
    "    validation_data=(validation_data_vectorized, validation_labels),\n",
    "    callbacks=[early_stopping],\n",
    ")\n",
    "\n",
    "# predict the labels on the test data\n",
    "second_tuned_rnn_predictions = second_tuned_model.predict(test_data_vectorized)\n",
    "# since predictions are one-hot encoded, we convert them to an int label taking the output with higher value\n",
    "second_tuned_rnn_predictions = np.argmax(second_tuned_rnn_predictions, axis=1)\n",
    "\n",
    "# calculate the accuracy score\n",
    "second_tuned_model_accuracy = accuracy_score(test_labels_list, second_tuned_rnn_predictions)\n",
    "print(\"\\nTest Set Accuracy: \", second_tuned_model_accuracy)\n",
    "# create a confusion matrix\n",
    "cm = confusion_matrix(test_labels_list, second_tuned_rnn_predictions)\n",
    "# plot the confusion matrix\n",
    "plt.figure(figsize=(10, 7))\n",
    "sns.heatmap(cm, annot=True, fmt=\"d\", xticklabels=label_names, yticklabels=label_names)"
   ]
  },
  {
   "cell_type": "markdown",
   "id": "e89dfea0",
   "metadata": {},
   "source": [
    "## Discussion\n"
   ]
  },
  {
   "cell_type": "markdown",
   "id": "2dd59640",
   "metadata": {},
   "source": [
    "After applying text preprocessing, the baseline model achieved an accuracy of 88.39%, which is slightly lower than the 88.51% accuracy observed before text preprocessing.\n",
    "\n",
    "The removal of specific words, such as extremely rare or frequently occurring ones like `https`, `http`, `href`, and news agency names, aims to reduce noise in the dataset. Noise in the form of irrelevant or frequently occurring words may not contribute significantly to contextual understanding and could introduce unwanted complexity. By excluding such words and reducing the dimensionality of the input space, the model becomes more focused on meaningful patterns.\n",
    "\n",
    "In the initial tuning of the RNN model, which involved increasing the number of units in each layer, a slight improvement in accuracy was observed compared to the baseline model. This improvement suggests that the neural network, with increased units, could capture more intricate patterns in the data.\n",
    "\n",
    "However, the subsequent tuning, which included reducing the number of units in the first layer, resulted in a performance drop compared to the previously tuned model. The reduced number of neurons in the network may have hindered its ability to capture complex underlying patterns in the dataset.\n",
    "\n",
    "Surprisingly, the best-performing model after text preprocessing and tuning exhibited a lower test accuracy compared to the model trained on the dataset without text preprocessing. This decrease in accuracy may be attributed to noise or errors in the original test data that negatively affected model training but did not impact testing.\n",
    "\n",
    "While `accuracy` was used for evaluation, employing more robust metrics such as `balanced accuracy`, `F1 score`, `recall`, and `precision` could compensate for potential imbalances in the dataset, which might affect the model.\n",
    "\n",
    "\n",
    "Furthermore, multiple training sessions of the RNN model aimed at obtaining better performance showed consistently changing results in metrics. This variability is primarily due to the randomness in the initialization of weights used by the neural network."
   ]
  },
  {
   "cell_type": "markdown",
   "id": "80b67999",
   "metadata": {},
   "source": [
    "# References\n",
    "\n",
    "[1] Lemmatization definition : https://towardsdatascience.com/stemming-vs-lemmatization-in-nlp-dea008600a0\n",
    "\n",
    "[2] Lemmatization : https://www.quora.com/What-is-lemmatization-in-NLP\n",
    "\n",
    "[3] Lemmatization and AI models : https://nlp.stanford.edu/IR-book/pdf/irbookonlinereading.pdf (pg 32)\n",
    "\n",
    "[4] News samples : https://www.bbc.com/news/\n",
    "\n",
    "[5] Increasing the number of units in the neural network : https://saturncloud.io/blog/how-to-improve-accuracy-in-neural-networks-with-keras/#:~:text=Increase%20the%20Number%20of%20Neurons,can%20lead%20to%20better%20predictions\n",
    "\n",
    "[5] Recurrent Neural Network and Natural Language Processing : https://www.tensorflow.org/guide/keras/working_with_rnns"
   ]
  }
 ],
 "metadata": {
  "kernelspec": {
   "display_name": "Python 3 (ipykernel)",
   "language": "python",
   "name": "python3"
  },
  "language_info": {
   "codemirror_mode": {
    "name": "ipython",
    "version": 3
   },
   "file_extension": ".py",
   "mimetype": "text/x-python",
   "name": "python",
   "nbconvert_exporter": "python",
   "pygments_lexer": "ipython3",
   "version": "3.9.12"
  }
 },
 "nbformat": 4,
 "nbformat_minor": 5
}
